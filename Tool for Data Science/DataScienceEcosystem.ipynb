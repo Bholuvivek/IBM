{
 "cells": [
  {
   "cell_type": "markdown",
   "id": "00c9eefc-62ee-45da-aa05-6410573fc29d",
   "metadata": {},
   "source": [
    "**My Jupyter Noteboook on IBM Watson Studio**\n",
    "**ANalytics**\n",
    "** Submitting By Vivek Kumar**"
   ]
  },
  {
   "cell_type": "markdown",
   "id": "1f54bbe6-644d-46df-9c94-964bdcbae493",
   "metadata": {},
   "source": [
    "This is the first Code for Adding Two Number"
   ]
  },
  {
   "cell_type": "markdown",
   "id": "cc9f5843-3e0c-4d10-99eb-cffcac9ef1c9",
   "metadata": {},
   "source": [
    "**Data Science Tools and Ecosystem**\n"
   ]
  },
  {
   "cell_type": "code",
   "execution_count": 1,
   "id": "d4e0fc7f-dace-46a3-8bdf-7b008d6a3283",
   "metadata": {
    "tags": []
   },
   "outputs": [],
   "source": [
    "#First of all take two variable\n",
    "a = 10\n",
    "b = 20\n"
   ]
  },
  {
   "cell_type": "code",
   "execution_count": 2,
   "id": "7f0d88c0-c206-4b78-af90-e5f601403877",
   "metadata": {
    "tags": []
   },
   "outputs": [
    {
     "name": "stdout",
     "output_type": "stream",
     "text": [
      "30\n"
     ]
    }
   ],
   "source": [
    "#now I am  taking another variable for the result\n",
    "c = a + b\n",
    "print(c)"
   ]
  },
  {
   "cell_type": "markdown",
   "id": "1c0d3562-3b53-460d-9695-97a666df2006",
   "metadata": {},
   "source": [
    "Exercise 3. "
   ]
  },
  {
   "cell_type": "markdown",
   "id": "6206dd3f-88db-41ca-92af-87045de9c2ee",
   "metadata": {},
   "source": [
    "In this notebook, Data Science Tools and Ecosystem are summarized.\n"
   ]
  },
  {
   "cell_type": "markdown",
   "id": "05db5f52-cd1c-47e9-bd91-ece2a0d521ec",
   "metadata": {},
   "source": [
    "**Some of the popular languages that Data Scientists use are:**\n",
    "1. Python\n",
    "2. R\n",
    "3. Julia\n"
   ]
  },
  {
   "cell_type": "markdown",
   "id": "f3ab314d-8bdb-448e-b67a-f8ef74f2fc27",
   "metadata": {},
   "source": [
    "Some of the commonly used libraries used by Data Scientists include:\n",
    "1. NumPy\n",
    "2. Pandas\n",
    "3. Scikit-learn\n"
   ]
  },
  {
   "cell_type": "markdown",
   "id": "cc847baf-40fd-4ef3-a375-b498b49109db",
   "metadata": {},
   "source": [
    "| Data Science Tools |\n",
    "|--------------------|\n",
    "| Jupyter Notebook   |\n",
    "| RStudio            |\n",
    "| PyCharm            |\n"
   ]
  },
  {
   "cell_type": "markdown",
   "id": "7335dbe2-17cd-4711-b1ef-b2fb9374c4ee",
   "metadata": {},
   "source": [
    "### Below are a few examples of evaluating arithmetic expressions in Python.\n"
   ]
  },
  {
   "cell_type": "code",
   "execution_count": 3,
   "id": "98b7e213-4e24-498e-a951-7f18a3112d7a",
   "metadata": {
    "tags": []
   },
   "outputs": [
    {
     "data": {
      "text/plain": [
       "17"
      ]
     },
     "execution_count": 3,
     "metadata": {},
     "output_type": "execute_result"
    }
   ],
   "source": [
    "# This is a simple arithmetic expression to multiply then add integers.\n",
    "result = (3 * 4) + 5\n",
    "result\n"
   ]
  },
  {
   "cell_type": "code",
   "execution_count": 4,
   "id": "a8c93d97-0571-4f0e-999a-e007968020d8",
   "metadata": {
    "tags": []
   },
   "outputs": [
    {
     "data": {
      "text/plain": [
       "3.3333333333333335"
      ]
     },
     "execution_count": 4,
     "metadata": {},
     "output_type": "execute_result"
    }
   ],
   "source": [
    "# This will convert 200 minutes to hours by dividing by 60.\n",
    "hours = 200 / 60\n",
    "hours\n"
   ]
  },
  {
   "cell_type": "markdown",
   "id": "3b9704f2-8246-479b-9bf4-143b17b7befd",
   "metadata": {},
   "source": [
    "**Objectives:**\n",
    "\n",
    "- List popular languages for Data Science.\n",
    "- Identify commonly used libraries in Data Science.\n",
    "- Introduce arithmetic expression evaluation in Python.\n"
   ]
  },
  {
   "cell_type": "markdown",
   "id": "f51414bf-fdb8-4f5e-b2bc-2495a11baa49",
   "metadata": {},
   "source": [
    "## Author\n",
    "Lakshmi Holla\n"
   ]
  }
 ],
 "metadata": {
  "kernelspec": {
   "display_name": "Python",
   "language": "python",
   "name": "conda-env-python-py"
  },
  "language_info": {
   "codemirror_mode": {
    "name": "ipython",
    "version": 3
   },
   "file_extension": ".py",
   "mimetype": "text/x-python",
   "name": "python",
   "nbconvert_exporter": "python",
   "pygments_lexer": "ipython3",
   "version": "3.7.12"
  }
 },
 "nbformat": 4,
 "nbformat_minor": 5
}
